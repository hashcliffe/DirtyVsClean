{
 "cells": [
  {
   "cell_type": "code",
   "execution_count": 1,
   "id": "9117e4ff",
   "metadata": {
    "_cell_guid": "b1076dfc-b9ad-4769-8c92-a6c4dae69d19",
    "_uuid": "8f2839f25d086af736a60e9eeb907d3b93b6e0e5",
    "execution": {
     "iopub.execute_input": "2025-04-07T05:01:24.610854Z",
     "iopub.status.busy": "2025-04-07T05:01:24.610475Z",
     "iopub.status.idle": "2025-04-07T05:01:27.415036Z",
     "shell.execute_reply": "2025-04-07T05:01:27.413790Z"
    },
    "papermill": {
     "duration": 2.812235,
     "end_time": "2025-04-07T05:01:27.416960",
     "exception": false,
     "start_time": "2025-04-07T05:01:24.604725",
     "status": "completed"
    },
    "tags": []
   },
   "outputs": [
    {
     "name": "stdout",
     "output_type": "stream",
     "text": [
      "/kaggle/input/platesv2/sample_submission.csv\n",
      "/kaggle/input/platesv2/plates.zip\n"
     ]
    }
   ],
   "source": [
    "# This Python 3 environment comes with many helpful analytics libraries installed\n",
    "# It is defined by the kaggle/python Docker image: https://github.com/kaggle/docker-python\n",
    "# For example, here's several helpful packages to load\n",
    "\n",
    "import numpy as np # linear algebra\n",
    "import pandas as pd # data processing, CSV file I/O (e.g. pd.read_csv)\n",
    "import seaborn as sns\n",
    "import matplotlib.pyplot as plt\n",
    "import os\n",
    "\n",
    "# Input data files are available in the read-only \"../input/\" directory\n",
    "# For example, running this (by clicking run or pressing Shift+Enter) will list all files under the input directory\n",
    "\n",
    "import os\n",
    "for dirname, _, filenames in os.walk('/kaggle/input'):\n",
    "    for filename in filenames:\n",
    "        print(os.path.join(dirname, filename))\n",
    "\n",
    "# You can write up to 20GB to the current directory (/kaggle/working/) that gets preserved as output when you create a version using \"Save & Run All\" \n",
    "# You can also write temporary files to /kaggle/temp/, but they won't be saved outside of the current session"
   ]
  },
  {
   "cell_type": "code",
   "execution_count": 2,
   "id": "e10dff42",
   "metadata": {
    "execution": {
     "iopub.execute_input": "2025-04-07T05:01:27.426607Z",
     "iopub.status.busy": "2025-04-07T05:01:27.426051Z",
     "iopub.status.idle": "2025-04-07T05:01:28.547169Z",
     "shell.execute_reply": "2025-04-07T05:01:28.546028Z"
    },
    "papermill": {
     "duration": 1.127684,
     "end_time": "2025-04-07T05:01:28.548976",
     "exception": false,
     "start_time": "2025-04-07T05:01:27.421292",
     "status": "completed"
    },
    "tags": []
   },
   "outputs": [
    {
     "name": "stdout",
     "output_type": "stream",
     "text": [
      "Files extracted successfully!\n"
     ]
    }
   ],
   "source": [
    "import os\n",
    "import zipfile\n",
    "\n",
    "extract_path = \"/kaggle/working/plates_dataset\"\n",
    "zip_path = \"/kaggle/input/platesv2/plates.zip\"\n",
    "\n",
    "with zipfile.ZipFile(zip_path, \"r\") as zip_ref:\n",
    "    zip_ref.extractall(extract_path)\n",
    "\n",
    "print(\"Files extracted successfully!\")"
   ]
  },
  {
   "cell_type": "code",
   "execution_count": 3,
   "id": "ccd1e104",
   "metadata": {
    "execution": {
     "iopub.execute_input": "2025-04-07T05:01:28.558339Z",
     "iopub.status.busy": "2025-04-07T05:01:28.557945Z",
     "iopub.status.idle": "2025-04-07T05:01:42.615808Z",
     "shell.execute_reply": "2025-04-07T05:01:42.614608Z"
    },
    "papermill": {
     "duration": 14.064813,
     "end_time": "2025-04-07T05:01:42.617957",
     "exception": false,
     "start_time": "2025-04-07T05:01:28.553144",
     "status": "completed"
    },
    "tags": []
   },
   "outputs": [],
   "source": [
    "import torch\n",
    "import torch.nn as nn\n",
    "import torch.optim as optim\n",
    "import torch.nn.functional as F\n",
    "from torch.utils.data import Dataset, DataLoader, random_split\n",
    "from torchvision.datasets import ImageFolder\n",
    "from torchvision import transforms\n",
    "from torchvision.io import read_image\n",
    "from torchmetrics.classification import BinaryAccuracy, BinaryConfusionMatrix"
   ]
  },
  {
   "cell_type": "code",
   "execution_count": 4,
   "id": "8612b996",
   "metadata": {
    "execution": {
     "iopub.execute_input": "2025-04-07T05:01:42.627707Z",
     "iopub.status.busy": "2025-04-07T05:01:42.627110Z",
     "iopub.status.idle": "2025-04-07T05:01:42.658780Z",
     "shell.execute_reply": "2025-04-07T05:01:42.657589Z"
    },
    "papermill": {
     "duration": 0.038568,
     "end_time": "2025-04-07T05:01:42.660738",
     "exception": false,
     "start_time": "2025-04-07T05:01:42.622170",
     "status": "completed"
    },
    "tags": []
   },
   "outputs": [],
   "source": [
    "torch.manual_seed(42)\n",
    "transform_width = 164\n",
    "\n",
    "# basic_transforms = transforms.Compose([\n",
    "#     transforms.CenterCrop(256),\n",
    "#     transforms.Resize((transform_width, transform_width)),\n",
    "#     transforms.ToTensor(),\n",
    "# ])\n",
    "basic_transforms = transforms.Compose([\n",
    "    transforms.CenterCrop(256),\n",
    "    transforms.Resize((transform_width, transform_width)),\n",
    "    transforms.RandomHorizontalFlip(),\n",
    "    transforms.RandomRotation(10),\n",
    "    transforms.ToTensor(),\n",
    "    transforms.Normalize(mean=[0.5, 0.5, 0.5],\n",
    "                         std=[0.5, 0.5, 0.5]),\n",
    "])\n",
    "\n",
    "dataset = ImageFolder(\n",
    "    os.path.join(extract_path, 'plates', 'train'),\n",
    "    transform=basic_transforms,\n",
    ")\n",
    "n = len(dataset)\n",
    "train_size = int(.8 * n)\n",
    "test_size = n - train_size\n",
    "\n",
    "dataset_train, dataset_test = random_split(dataset, [train_size, test_size])\n",
    "\n",
    "dataloader_train = DataLoader(\n",
    "    dataset_train,\n",
    "    shuffle=True,\n",
    "    batch_size=1,\n",
    ")\n",
    "dataloader_test = DataLoader(\n",
    "    dataset_test,\n",
    "    shuffle=False,\n",
    "    batch_size=1,\n",
    ")"
   ]
  },
  {
   "cell_type": "code",
   "execution_count": 5,
   "id": "6d17e1ce",
   "metadata": {
    "execution": {
     "iopub.execute_input": "2025-04-07T05:01:42.675387Z",
     "iopub.status.busy": "2025-04-07T05:01:42.674973Z",
     "iopub.status.idle": "2025-04-07T05:01:43.146661Z",
     "shell.execute_reply": "2025-04-07T05:01:43.145098Z"
    },
    "papermill": {
     "duration": 0.48165,
     "end_time": "2025-04-07T05:01:43.149387",
     "exception": false,
     "start_time": "2025-04-07T05:01:42.667737",
     "status": "completed"
    },
    "tags": []
   },
   "outputs": [
    {
     "name": "stdout",
     "output_type": "stream",
     "text": [
      "Image Size: torch.Size([1, 3, 164, 164]), Label: 0\n"
     ]
    },
    {
     "data": {
      "image/png": "[encoded data removed]",
      "text/plain": [
       "<Figure size 640x480 with 1 Axes>"
      ]
     },
     "metadata": {},
     "output_type": "display_data"
    }
   ],
   "source": [
    "image, label = next(iter(dataloader_train))\n",
    "print(f\"Image Size: {image.shape}, Label: {label.item()}\")\n",
    "\n",
    "image = image.squeeze().permute(1, 2, 0)\n",
    "plt.imshow(image)\n",
    "plt.show()"
   ]
  },
  {
   "cell_type": "code",
   "execution_count": 6,
   "id": "63df8561",
   "metadata": {
    "execution": {
     "iopub.execute_input": "2025-04-07T05:01:43.163912Z",
     "iopub.status.busy": "2025-04-07T05:01:43.163503Z",
     "iopub.status.idle": "2025-04-07T05:01:43.176009Z",
     "shell.execute_reply": "2025-04-07T05:01:43.174582Z"
    },
    "papermill": {
     "duration": 0.022483,
     "end_time": "2025-04-07T05:01:43.178381",
     "exception": false,
     "start_time": "2025-04-07T05:01:43.155898",
     "status": "completed"
    },
    "tags": []
   },
   "outputs": [],
   "source": [
    "class CleanDirtyAnalyzer(nn.Module):\n",
    "    def __init__(self, num_classes):\n",
    "        super().__init__()\n",
    "        self.conv = nn.Sequential(\n",
    "\n",
    "            # First Batch\n",
    "            nn.Conv2d(3, 32, kernel_size=3, padding=1),\n",
    "            nn.ELU(),\n",
    "            nn.MaxPool2d(kernel_size=2),\n",
    "\n",
    "            nn.Dropout(.5),\n",
    "\n",
    "            # Second Batch\n",
    "            nn.Conv2d(32, 64, kernel_size=3, padding=1),\n",
    "            nn.ELU(),\n",
    "            nn.MaxPool2d(kernel_size=2),\n",
    "\n",
    "            nn.Dropout(0.2),\n",
    "            nn.Flatten(),\n",
    "        )\n",
    "        self.fc = nn.Linear(\n",
    "            64 * transform_width // 4 * transform_width // 4, \n",
    "            num_classes,\n",
    "        )\n",
    "\n",
    "    def forward(self, x):\n",
    "        x = self.conv(x)\n",
    "        x = self.fc(x)\n",
    "        return x\n",
    "\n",
    "model = CleanDirtyAnalyzer(num_classes=2)"
   ]
  },
  {
   "cell_type": "code",
   "execution_count": 7,
   "id": "a497ca15",
   "metadata": {
    "execution": {
     "iopub.execute_input": "2025-04-07T05:01:43.196212Z",
     "iopub.status.busy": "2025-04-07T05:01:43.195672Z",
     "iopub.status.idle": "2025-04-07T05:01:56.841766Z",
     "shell.execute_reply": "2025-04-07T05:01:56.840466Z"
    },
    "papermill": {
     "duration": 13.656992,
     "end_time": "2025-04-07T05:01:56.843456",
     "exception": false,
     "start_time": "2025-04-07T05:01:43.186464",
     "status": "completed"
    },
    "tags": []
   },
   "outputs": [
    {
     "name": "stdout",
     "output_type": "stream",
     "text": [
      "Epoch: 1/15, Loss: 3.754375457763672\n",
      "Epoch: 2/15, Loss: 0.7720507383346558\n",
      "Epoch: 3/15, Loss: 0.030509103089571\n",
      "Epoch: 4/15, Loss: 1.1589304208755493\n",
      "Epoch: 5/15, Loss: 0.18455547094345093\n",
      "Epoch: 6/15, Loss: 0.017452361062169075\n",
      "Epoch: 7/15, Loss: 0.08080931752920151\n",
      "Epoch: 8/15, Loss: 0.9984840154647827\n",
      "Epoch: 9/15, Loss: 0.0066322204656898975\n",
      "Epoch: 10/15, Loss: 0.05081666633486748\n",
      "Epoch: 11/15, Loss: 0.5651547312736511\n",
      "Epoch: 12/15, Loss: 2.3841855067985307e-07\n",
      "Epoch: 13/15, Loss: 0.48762646317481995\n",
      "Epoch: 14/15, Loss: 0.0007010624394752085\n",
      "Epoch: 15/15, Loss: 0.004666272550821304\n"
     ]
    }
   ],
   "source": [
    "criterion = nn.CrossEntropyLoss()\n",
    "optimizer = optim.Adam(model.parameters(), lr=.001)\n",
    "num_epochs = 15\n",
    "\n",
    "model.train()\n",
    "for epoch in range(num_epochs):\n",
    "    for images, labels in dataloader_train:\n",
    "        optimizer.zero_grad()\n",
    "        outputs = model(images)\n",
    "        loss = criterion(outputs, labels)\n",
    "        loss.backward()\n",
    "        optimizer.step()\n",
    "    print(f\"Epoch: {epoch + 1}/{num_epochs}, Loss: {loss}\")\n",
    "    "
   ]
  },
  {
   "cell_type": "code",
   "execution_count": 8,
   "id": "5355696d",
   "metadata": {
    "execution": {
     "iopub.execute_input": "2025-04-07T05:01:56.860049Z",
     "iopub.status.busy": "2025-04-07T05:01:56.859679Z",
     "iopub.status.idle": "2025-04-07T05:01:57.026914Z",
     "shell.execute_reply": "2025-04-07T05:01:57.025788Z"
    },
    "papermill": {
     "duration": 0.177369,
     "end_time": "2025-04-07T05:01:57.028844",
     "exception": false,
     "start_time": "2025-04-07T05:01:56.851475",
     "status": "completed"
    },
    "tags": []
   },
   "outputs": [
    {
     "name": "stdout",
     "output_type": "stream",
     "text": [
      "Accuracy: 0.375\n"
     ]
    },
    {
     "data": {
      "text/plain": [
       "tensor([[2, 0],\n",
       "        [5, 1]])"
      ]
     },
     "execution_count": 8,
     "metadata": {},
     "output_type": "execute_result"
    }
   ],
   "source": [
    "accuracy = BinaryAccuracy()\n",
    "confusion_matrix = BinaryConfusionMatrix()\n",
    "\n",
    "model.eval()\n",
    "with torch.no_grad():\n",
    "    for images, labels in dataloader_test:\n",
    "        outputs = model(images)\n",
    "        preds = torch.argmax(outputs, 1)\n",
    "        accuracy(preds, labels)\n",
    "        confusion_matrix(preds, labels)\n",
    "\n",
    "score = accuracy.compute()\n",
    "print(f\"Accuracy: {score}\")\n",
    "\n",
    "matrix = confusion_matrix.compute()\n",
    "matrix"
   ]
  },
  {
   "cell_type": "code",
   "execution_count": 9,
   "id": "419ee70c",
   "metadata": {
    "execution": {
     "iopub.execute_input": "2025-04-07T05:01:57.046694Z",
     "iopub.status.busy": "2025-04-07T05:01:57.046274Z",
     "iopub.status.idle": "2025-04-07T05:01:57.084514Z",
     "shell.execute_reply": "2025-04-07T05:01:57.083410Z"
    },
    "papermill": {
     "duration": 0.048121,
     "end_time": "2025-04-07T05:01:57.086251",
     "exception": false,
     "start_time": "2025-04-07T05:01:57.038130",
     "status": "completed"
    },
    "tags": []
   },
   "outputs": [
    {
     "data": {
      "text/html": [
       "<div>\n",
       "<style scoped>\n",
       "    .dataframe tbody tr th:only-of-type {\n",
       "        vertical-align: middle;\n",
       "    }\n",
       "\n",
       "    .dataframe tbody tr th {\n",
       "        vertical-align: top;\n",
       "    }\n",
       "\n",
       "    .dataframe thead th {\n",
       "        text-align: right;\n",
       "    }\n",
       "</style>\n",
       "<table border=\"1\" class=\"dataframe\">\n",
       "  <thead>\n",
       "    <tr style=\"text-align: right;\">\n",
       "      <th></th>\n",
       "      <th>id</th>\n",
       "      <th>label</th>\n",
       "    </tr>\n",
       "  </thead>\n",
       "  <tbody>\n",
       "    <tr>\n",
       "      <th>0</th>\n",
       "      <td>0</td>\n",
       "      <td>dirty</td>\n",
       "    </tr>\n",
       "    <tr>\n",
       "      <th>1</th>\n",
       "      <td>1</td>\n",
       "      <td>dirty</td>\n",
       "    </tr>\n",
       "    <tr>\n",
       "      <th>2</th>\n",
       "      <td>2</td>\n",
       "      <td>dirty</td>\n",
       "    </tr>\n",
       "    <tr>\n",
       "      <th>3</th>\n",
       "      <td>3</td>\n",
       "      <td>dirty</td>\n",
       "    </tr>\n",
       "    <tr>\n",
       "      <th>4</th>\n",
       "      <td>4</td>\n",
       "      <td>dirty</td>\n",
       "    </tr>\n",
       "  </tbody>\n",
       "</table>\n",
       "</div>"
      ],
      "text/plain": [
       "   id  label\n",
       "0   0  dirty\n",
       "1   1  dirty\n",
       "2   2  dirty\n",
       "3   3  dirty\n",
       "4   4  dirty"
      ]
     },
     "execution_count": 9,
     "metadata": {},
     "output_type": "execute_result"
    }
   ],
   "source": [
    "from PIL import Image\n",
    "pd.read_csv('/kaggle/input/platesv2/sample_submission.csv').head()"
   ]
  },
  {
   "cell_type": "code",
   "execution_count": 10,
   "id": "d67f83f6",
   "metadata": {
    "execution": {
     "iopub.execute_input": "2025-04-07T05:01:57.102623Z",
     "iopub.status.busy": "2025-04-07T05:01:57.102235Z",
     "iopub.status.idle": "2025-04-07T05:01:57.106603Z",
     "shell.execute_reply": "2025-04-07T05:01:57.105547Z"
    },
    "papermill": {
     "duration": 0.014355,
     "end_time": "2025-04-07T05:01:57.108155",
     "exception": false,
     "start_time": "2025-04-07T05:01:57.093800",
     "status": "completed"
    },
    "tags": []
   },
   "outputs": [],
   "source": [
    "rev_map = {idx: label for label, idx in dataset.class_to_idx.items()}"
   ]
  },
  {
   "cell_type": "code",
   "execution_count": 11,
   "id": "bf337a05",
   "metadata": {
    "execution": {
     "iopub.execute_input": "2025-04-07T05:01:57.124190Z",
     "iopub.status.busy": "2025-04-07T05:01:57.123841Z",
     "iopub.status.idle": "2025-04-07T05:02:00.044650Z",
     "shell.execute_reply": "2025-04-07T05:02:00.042694Z"
    },
    "papermill": {
     "duration": 2.931496,
     "end_time": "2025-04-07T05:02:00.047123",
     "exception": false,
     "start_time": "2025-04-07T05:01:57.115627",
     "status": "completed"
    },
    "tags": []
   },
   "outputs": [],
   "source": [
    "base_path = os.path.join(extract_path, 'plates', 'test')\n",
    "ids = []\n",
    "images = []\n",
    "\n",
    "for file in os.listdir(base_path):\n",
    "    if file.endswith('jpg'):\n",
    "        fileId = int(file[:file.index('.')])\n",
    "        ids.append(fileId)\n",
    "        \n",
    "        image = Image.open(os.path.join(base_path, file))\n",
    "        image = basic_transforms(image)\n",
    "        images.append(image)"
   ]
  },
  {
   "cell_type": "code",
   "execution_count": 12,
   "id": "b5cfff79",
   "metadata": {
    "execution": {
     "iopub.execute_input": "2025-04-07T05:02:00.064111Z",
     "iopub.status.busy": "2025-04-07T05:02:00.063656Z",
     "iopub.status.idle": "2025-04-07T05:02:00.070117Z",
     "shell.execute_reply": "2025-04-07T05:02:00.068907Z"
    },
    "papermill": {
     "duration": 0.01728,
     "end_time": "2025-04-07T05:02:00.072325",
     "exception": false,
     "start_time": "2025-04-07T05:02:00.055045",
     "status": "completed"
    },
    "tags": []
   },
   "outputs": [],
   "source": [
    "class TestDataset(Dataset):\n",
    "    def __init__(self, images, ids):\n",
    "        self.images = images\n",
    "        self.ids = ids\n",
    "    def __len__(self):\n",
    "        return len(self.images)\n",
    "    def __getitem__(self, idx):\n",
    "        return self.images[idx], self.ids[idx]\n",
    "\n",
    "test_dataset = TestDataset(images, ids)\n",
    "test_dataloader = DataLoader(\n",
    "    test_dataset,\n",
    "    shuffle=False,\n",
    "    batch_size=1,\n",
    ")"
   ]
  },
  {
   "cell_type": "code",
   "execution_count": 13,
   "id": "71d812c1",
   "metadata": {
    "execution": {
     "iopub.execute_input": "2025-04-07T05:02:00.097534Z",
     "iopub.status.busy": "2025-04-07T05:02:00.097011Z",
     "iopub.status.idle": "2025-04-07T05:02:08.241516Z",
     "shell.execute_reply": "2025-04-07T05:02:08.240005Z"
    },
    "papermill": {
     "duration": 8.159937,
     "end_time": "2025-04-07T05:02:08.243777",
     "exception": false,
     "start_time": "2025-04-07T05:02:00.083840",
     "status": "completed"
    },
    "tags": []
   },
   "outputs": [],
   "source": [
    "submission = []\n",
    "\n",
    "model.eval()\n",
    "with torch.no_grad():\n",
    "    for images, ID in test_dataloader:\n",
    "        outputs = model(images)\n",
    "        pred = torch.argmax(outputs, 1)\n",
    "        submission.append({\n",
    "            'id': ID.item(),\n",
    "            'label': rev_map[pred.item()],\n",
    "        })"
   ]
  },
  {
   "cell_type": "code",
   "execution_count": 14,
   "id": "62df9e6f",
   "metadata": {
    "execution": {
     "iopub.execute_input": "2025-04-07T05:02:08.261783Z",
     "iopub.status.busy": "2025-04-07T05:02:08.261303Z",
     "iopub.status.idle": "2025-04-07T05:02:08.294169Z",
     "shell.execute_reply": "2025-04-07T05:02:08.292738Z"
    },
    "papermill": {
     "duration": 0.045602,
     "end_time": "2025-04-07T05:02:08.297179",
     "exception": false,
     "start_time": "2025-04-07T05:02:08.251577",
     "status": "completed"
    },
    "tags": []
   },
   "outputs": [
    {
     "data": {
      "text/html": [
       "<div>\n",
       "<style scoped>\n",
       "    .dataframe tbody tr th:only-of-type {\n",
       "        vertical-align: middle;\n",
       "    }\n",
       "\n",
       "    .dataframe tbody tr th {\n",
       "        vertical-align: top;\n",
       "    }\n",
       "\n",
       "    .dataframe thead th {\n",
       "        text-align: right;\n",
       "    }\n",
       "</style>\n",
       "<table border=\"1\" class=\"dataframe\">\n",
       "  <thead>\n",
       "    <tr style=\"text-align: right;\">\n",
       "      <th></th>\n",
       "      <th>id</th>\n",
       "      <th>label</th>\n",
       "    </tr>\n",
       "  </thead>\n",
       "  <tbody>\n",
       "    <tr>\n",
       "      <th>0</th>\n",
       "      <td>0</td>\n",
       "      <td>cleaned</td>\n",
       "    </tr>\n",
       "    <tr>\n",
       "      <th>1</th>\n",
       "      <td>1</td>\n",
       "      <td>cleaned</td>\n",
       "    </tr>\n",
       "    <tr>\n",
       "      <th>2</th>\n",
       "      <td>2</td>\n",
       "      <td>cleaned</td>\n",
       "    </tr>\n",
       "    <tr>\n",
       "      <th>3</th>\n",
       "      <td>3</td>\n",
       "      <td>cleaned</td>\n",
       "    </tr>\n",
       "    <tr>\n",
       "      <th>4</th>\n",
       "      <td>4</td>\n",
       "      <td>cleaned</td>\n",
       "    </tr>\n",
       "  </tbody>\n",
       "</table>\n",
       "</div>"
      ],
      "text/plain": [
       "   id    label\n",
       "0   0  cleaned\n",
       "1   1  cleaned\n",
       "2   2  cleaned\n",
       "3   3  cleaned\n",
       "4   4  cleaned"
      ]
     },
     "execution_count": 14,
     "metadata": {},
     "output_type": "execute_result"
    }
   ],
   "source": [
    "submission = pd.DataFrame(submission) \\\n",
    "    .sort_values(by='id') \\\n",
    "    .reset_index().drop('index', axis=1)\n",
    "\n",
    "submission.to_csv('submission.csv', index=False)\n",
    "\n",
    "pd.read_csv('submission.csv').head()"
   ]
  },
  {
   "cell_type": "code",
   "execution_count": 15,
   "id": "3b18863a",
   "metadata": {
    "execution": {
     "iopub.execute_input": "2025-04-07T05:02:08.313857Z",
     "iopub.status.busy": "2025-04-07T05:02:08.313455Z",
     "iopub.status.idle": "2025-04-07T05:02:08.345756Z",
     "shell.execute_reply": "2025-04-07T05:02:08.344561Z"
    },
    "papermill": {
     "duration": 0.043159,
     "end_time": "2025-04-07T05:02:08.348072",
     "exception": false,
     "start_time": "2025-04-07T05:02:08.304913",
     "status": "completed"
    },
    "tags": []
   },
   "outputs": [],
   "source": [
    "import shutil\n",
    "shutil.rmtree(extract_path)"
   ]
  }
 ],
 "metadata": {
  "kaggle": {
   "accelerator": "none",
   "dataSources": [
    {
     "databundleVersionId": 565187,
     "sourceId": 15282,
     "sourceType": "competition"
    }
   ],
   "dockerImageVersionId": 30918,
   "isGpuEnabled": false,
   "isInternetEnabled": true,
   "language": "python",
   "sourceType": "notebook"
  },
  "kernelspec": {
   "display_name": "Python 3",
   "language": "python",
   "name": "python3"
  },
  "language_info": {
   "codemirror_mode": {
    "name": "ipython",
    "version": 3
   },
   "file_extension": ".py",
   "mimetype": "text/x-python",
   "name": "python",
   "nbconvert_exporter": "python",
   "pygments_lexer": "ipython3",
   "version": "3.10.12"
  },
  "papermill": {
   "default_parameters": {},
   "duration": 49.632071,
   "end_time": "2025-04-07T05:02:11.357780",
   "environment_variables": {},
   "exception": null,
   "input_path": "__notebook__.ipynb",
   "output_path": "__notebook__.ipynb",
   "parameters": {},
   "start_time": "2025-04-07T05:01:21.725709",
   "version": "2.6.0"
  }
 },
 "nbformat": 4,
 "nbformat_minor": 5
}
